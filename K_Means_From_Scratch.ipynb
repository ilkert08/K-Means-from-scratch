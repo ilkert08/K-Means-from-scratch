{
  "nbformat": 4,
  "nbformat_minor": 0,
  "metadata": {
    "colab": {
      "name": "K Means From Scratch.ipynb",
      "provenance": [],
      "collapsed_sections": [],
      "authorship_tag": "ABX9TyOsYSXZzB6yh3ekYeXTu/MY",
      "include_colab_link": true
    },
    "kernelspec": {
      "name": "python3",
      "display_name": "Python 3"
    },
    "language_info": {
      "name": "python"
    }
  },
  "cells": [
    {
      "cell_type": "markdown",
      "metadata": {
        "id": "view-in-github",
        "colab_type": "text"
      },
      "source": [
        "<a href=\"https://colab.research.google.com/github/ilkert08/K-Means-from-scratch/blob/main/K_Means_From_Scratch.ipynb\" target=\"_parent\"><img src=\"https://colab.research.google.com/assets/colab-badge.svg\" alt=\"Open In Colab\"/></a>"
      ]
    },
    {
      "cell_type": "markdown",
      "metadata": {
        "id": "_9vmb1PZ4u38"
      },
      "source": [
        "# Import libraries\n",
        "\n"
      ]
    },
    {
      "cell_type": "code",
      "metadata": {
        "id": "xPqYTx7D4oZM"
      },
      "source": [
        "import pandas as pd\n",
        "import numpy as np\n",
        "import math\n",
        "from sklearn import datasets\n",
        "import matplotlib\n",
        "import matplotlib.pyplot as plt\n",
        "from sklearn.metrics import classification_report"
      ],
      "execution_count": null,
      "outputs": []
    },
    {
      "cell_type": "markdown",
      "metadata": {
        "id": "lYVlzsBe4uIn"
      },
      "source": [
        "# Distance Measuerment Functions"
      ]
    },
    {
      "cell_type": "code",
      "metadata": {
        "id": "5Y5Hu99M5SXu"
      },
      "source": [
        "def euclideanDistance(list1, list2): #Returns euclidean disatnace between 2 nodes.\n",
        "  sum = 0\n",
        "  for i in range(len(list1)):\n",
        "    dif = (list1[i] - list2[i]) ** 2\n",
        "    sum += dif\n",
        "  result = math.sqrt(sum)\n",
        "  return result\n"
      ],
      "execution_count": null,
      "outputs": []
    },
    {
      "cell_type": "markdown",
      "metadata": {
        "id": "dddm4zx34tXt"
      },
      "source": [
        "# Import dataset\n",
        "\n"
      ]
    },
    {
      "cell_type": "code",
      "metadata": {
        "id": "Q6RzJWjoByk6"
      },
      "source": [
        "# import some data to play with\n",
        "iris = datasets.load_iris()\n",
        "\n",
        "limit = -1\n",
        "\n",
        "x = iris.data[:limit,  :2]\n",
        "y = iris.target[:limit]"
      ],
      "execution_count": null,
      "outputs": []
    },
    {
      "cell_type": "markdown",
      "metadata": {
        "id": "MxenT7peCJTD"
      },
      "source": [
        "# K Means"
      ]
    },
    {
      "cell_type": "markdown",
      "metadata": {
        "id": "e4SUUeupCQKP"
      },
      "source": [
        "Class for clusters"
      ]
    },
    {
      "cell_type": "code",
      "metadata": {
        "id": "560MvvbREKx1"
      },
      "source": [
        "class Cluster:\n",
        "\n",
        "  def __init__(self, centroid):\n",
        "    self._members = []\n",
        "    self._centroid = centroid\n",
        "\n",
        "  def getMembers(self):\n",
        "      return self._members\n",
        "\n",
        "  def setMembers(self, value):\n",
        "      self._members = value\n",
        "\n",
        "  def getCentroid(self):\n",
        "      return self._centroid\n",
        "\n",
        "  def setCentroid(self, value):\n",
        "      self._centroid = value\n",
        "\n",
        "  def updateCentroid(self):\n",
        "    newCentroid = []\n",
        "    \n",
        "    for i in range(len(self._members[0])):\n",
        "      sum = 0\n",
        "      for member in self._members:\n",
        "        sum += member[i]\n",
        "      newValue = sum / len(self._members)\n",
        "      newCentroid.append(newValue)\n",
        "      self._centroid = newCentroid"
      ],
      "execution_count": null,
      "outputs": []
    },
    {
      "cell_type": "code",
      "metadata": {
        "id": "JciqNf83COQ8"
      },
      "source": [
        "def assignClusters(x, k = 3, clusters = []):\n",
        "  if len(x) == 0  or (len(y)!= 0  and len(x) != len(y)):\n",
        "    raise ValueError('Check dataset, there is a problem!')\n",
        "  \n",
        "  for data in x:\n",
        "    minDistance = euclideanDistance(data, clusters[0].getCentroid())\n",
        "    #print('-----------------------------------------------------------------------------------------')\n",
        "    minIndex = 0\n",
        "    for i in range(len(clusters)):\n",
        "      cluster = clusters[i]\n",
        "      tempDistance = euclideanDistance(data, cluster.getCentroid())\n",
        "     # print(\"Temp Distance: \" + str(tempDistance))\n",
        "\n",
        "      if tempDistance < minDistance:\n",
        "        minDistance = tempDistance\n",
        "        minIndex = i\n",
        "    #print('Min Index:' + str(minIndex))\n",
        "\n",
        "    members = clusters[minIndex].getMembers()\n",
        "    members.append(data)\n",
        "    clusters[minIndex].setMembers(members)\n",
        "    clusters[minIndex].updateCentroid()\n",
        "  return clusters    \n",
        "\n",
        "def assignFirstClusters(x, k = 3):\n",
        "  clusters = []\n",
        "  print(len(clusters))\n",
        "  for i in range(k):  # We define first k element as centroids.\n",
        "    cluster = Cluster(x[i])\n",
        "    clusters.append(cluster) \n",
        "  return clusters\n"
      ],
      "execution_count": null,
      "outputs": []
    },
    {
      "cell_type": "code",
      "metadata": {
        "colab": {
          "base_uri": "https://localhost:8080/"
        },
        "id": "GB1Py5yZIP3E",
        "outputId": "4562a748-d3a0-46c0-c4fc-b215ca867900"
      },
      "source": [
        "def kMeans(x, epochs = 100, k = 3):\n",
        "  \n",
        "  clusters = assignFirstClusters(x, k = k)\n",
        "\n",
        "  for i in range(epochs):\n",
        "    print(\"-------------------------------------------------------------------------\")\n",
        "    print(\"Epoch \" + str(i + 1) + \": \")\n",
        "    clusters = assignClusters(x, k = k, clusters = clusters)\n",
        "  return clusters\n",
        "\n",
        "clusters = kMeans(x, epochs = 10, k = 3)\n",
        "\n",
        "for cluster in clusters:\n",
        "  print(cluster.getCentroid())\n",
        "\n"
      ],
      "execution_count": null,
      "outputs": [
        {
          "output_type": "stream",
          "text": [
            "0\n",
            "-------------------------------------------------------------------------\n",
            "Epoch 1: \n",
            "-------------------------------------------------------------------------\n",
            "Epoch 2: \n",
            "-------------------------------------------------------------------------\n",
            "Epoch 3: \n",
            "-------------------------------------------------------------------------\n",
            "Epoch 4: \n",
            "-------------------------------------------------------------------------\n",
            "Epoch 5: \n",
            "-------------------------------------------------------------------------\n",
            "Epoch 6: \n",
            "-------------------------------------------------------------------------\n",
            "Epoch 7: \n",
            "-------------------------------------------------------------------------\n",
            "Epoch 8: \n",
            "-------------------------------------------------------------------------\n",
            "Epoch 9: \n",
            "-------------------------------------------------------------------------\n",
            "Epoch 10: \n",
            "[6.596610169491517, 3.047919876733432]\n",
            "[5.565306122448979, 2.639540816326532]\n",
            "[4.995991091314032, 3.436971046770605]\n"
          ],
          "name": "stdout"
        }
      ]
    },
    {
      "cell_type": "markdown",
      "metadata": {
        "id": "oqgRaDf5bQ9I"
      },
      "source": [
        "# Visualize"
      ]
    },
    {
      "cell_type": "code",
      "metadata": {
        "colab": {
          "base_uri": "https://localhost:8080/",
          "height": 483
        },
        "id": "bU9xLpgbbPRf",
        "outputId": "2e4ca004-bc66-448a-b525-31399121b5d8"
      },
      "source": [
        "x1 = x[:,0]\n",
        "x2 = x[:,1]\n",
        "label = [0,1,2,3,0,1,2,3]\n",
        "colors = ['red','green','blue']\n",
        "\n",
        "\n",
        "\n",
        "\n",
        "\n",
        "fig = plt.figure(figsize=(8,8))\n",
        "plt.scatter(x1, x2, c=y, cmap=matplotlib.colors.ListedColormap(colors))\n",
        "plt.sscatter(x1, x2, c=y, cmap=matplotlib.colors.ListedColormap(['yellow']))\n",
        "\n",
        "cb = plt.colorbar()\n",
        "loc = np.arange(0,max(y),max(y)/float(len(colors)))\n",
        "cb.set_ticks(loc)\n",
        "cb.set_ticklabels(colors)"
      ],
      "execution_count": null,
      "outputs": [
        {
          "output_type": "display_data",
          "data": {
            "image/png": "[encoded data removed]",
            "text/plain": [
              "<Figure size 576x576 with 2 Axes>"
            ]
          },
          "metadata": {
            "tags": [],
            "needs_background": "light"
          }
        }
      ]
    },
    {
      "cell_type": "markdown",
      "metadata": {
        "id": "OhmgLEttbP_p"
      },
      "source": [
        ""
      ]
    }
  ]
}